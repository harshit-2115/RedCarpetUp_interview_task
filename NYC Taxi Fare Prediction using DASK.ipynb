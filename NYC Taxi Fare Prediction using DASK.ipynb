{
 "cells": [
  {
   "cell_type": "code",
   "execution_count": 1,
   "metadata": {
    "_cell_guid": "b1076dfc-b9ad-4769-8c92-a6c4dae69d19",
    "_uuid": "8f2839f25d086af736a60e9eeb907d3b93b6e0e5"
   },
   "outputs": [],
   "source": [
    "import numpy as np # linear algebra\n",
    "import pandas as pd # data processing, CSV file I/O (e.g. pd.read_csv)\n",
    "import os\n",
    "import matplotlib.pyplot as plt\n",
    "import seaborn as sns\n",
    "import dask.dataframe as dd\n",
    "import geopy.distance as geo\n",
    "from haversine import haversine\n",
    "from sklearn.preprocessing import StandardScaler, Normalizer\n",
    "\n",
    "for dirname, _, filenames in os.walk('/kaggle/input'):\n",
    "    for filename in filenames:\n",
    "        print(os.path.join(dirname, filename))"
   ]
  },
  {
   "cell_type": "code",
   "execution_count": 3,
   "metadata": {
    "_cell_guid": "79c7e3d0-c299-4dcb-8224-4455121ee9b0",
    "_uuid": "d629ff2d2480ee46fbb7e2d37f6b5fab8052498a"
   },
   "outputs": [
    {
     "name": "stdout",
     "output_type": "stream",
     "text": [
      "CPU times: user 1min 52s, sys: 8.55 s, total: 2min 1s\n",
      "Wall time: 2min 13s\n"
     ]
    }
   ],
   "source": [
    "%%time\n",
    "data = dd.read_csv('train.csv')\n",
    "data = data.sample(frac=0.01).compute()"
   ]
  },
  {
   "cell_type": "code",
   "execution_count": 7,
   "metadata": {},
   "outputs": [
    {
     "data": {
      "text/plain": [
       "pandas.core.frame.DataFrame"
      ]
     },
     "execution_count": 7,
     "metadata": {},
     "output_type": "execute_result"
    }
   ],
   "source": [
    "type(data)"
   ]
  },
  {
   "cell_type": "markdown",
   "metadata": {},
   "source": [
    "## PREPROCESSING"
   ]
  },
  {
   "cell_type": "code",
   "execution_count": 58,
   "metadata": {},
   "outputs": [],
   "source": [
    "train = dd.from_pandas(data, npartitions = 16)"
   ]
  },
  {
   "cell_type": "code",
   "execution_count": 59,
   "metadata": {},
   "outputs": [
    {
     "data": {
      "text/plain": [
       "dask.dataframe.core.DataFrame"
      ]
     },
     "execution_count": 59,
     "metadata": {},
     "output_type": "execute_result"
    }
   ],
   "source": [
    "type(train)"
   ]
  },
  {
   "cell_type": "code",
   "execution_count": 60,
   "metadata": {},
   "outputs": [
    {
     "name": "stdout",
     "output_type": "stream",
     "text": [
      "CPU times: user 2.13 ms, sys: 197 µs, total: 2.33 ms\n",
      "Wall time: 2.09 ms\n"
     ]
    },
    {
     "data": {
      "text/html": [
       "<div>\n",
       "<style scoped>\n",
       "    .dataframe tbody tr th:only-of-type {\n",
       "        vertical-align: middle;\n",
       "    }\n",
       "\n",
       "    .dataframe tbody tr th {\n",
       "        vertical-align: top;\n",
       "    }\n",
       "\n",
       "    .dataframe thead th {\n",
       "        text-align: right;\n",
       "    }\n",
       "</style>\n",
       "<table border=\"1\" class=\"dataframe\">\n",
       "  <thead>\n",
       "    <tr style=\"text-align: right;\">\n",
       "      <th></th>\n",
       "      <th>key</th>\n",
       "      <th>fare_amount</th>\n",
       "      <th>pickup_datetime</th>\n",
       "      <th>pickup_longitude</th>\n",
       "      <th>pickup_latitude</th>\n",
       "      <th>dropoff_longitude</th>\n",
       "      <th>dropoff_latitude</th>\n",
       "      <th>passenger_count</th>\n",
       "    </tr>\n",
       "  </thead>\n",
       "  <tbody>\n",
       "    <tr>\n",
       "      <th>0</th>\n",
       "      <td>2013-09-26 20:31:00.000000210</td>\n",
       "      <td>8.0</td>\n",
       "      <td>2013-09-26 20:31:00 UTC</td>\n",
       "      <td>-73.975782</td>\n",
       "      <td>40.745062</td>\n",
       "      <td>-73.991407</td>\n",
       "      <td>40.756060</td>\n",
       "      <td>5</td>\n",
       "    </tr>\n",
       "    <tr>\n",
       "      <th>0</th>\n",
       "      <td>2012-02-29 14:35:55.0000003</td>\n",
       "      <td>8.1</td>\n",
       "      <td>2012-02-29 14:35:55 UTC</td>\n",
       "      <td>-73.986216</td>\n",
       "      <td>40.734511</td>\n",
       "      <td>-73.968246</td>\n",
       "      <td>40.759619</td>\n",
       "      <td>3</td>\n",
       "    </tr>\n",
       "    <tr>\n",
       "      <th>5</th>\n",
       "      <td>2014-07-16 11:02:00.00000094</td>\n",
       "      <td>15.0</td>\n",
       "      <td>2014-07-16 11:02:00 UTC</td>\n",
       "      <td>-73.962988</td>\n",
       "      <td>40.769505</td>\n",
       "      <td>-73.968017</td>\n",
       "      <td>40.802332</td>\n",
       "      <td>1</td>\n",
       "    </tr>\n",
       "    <tr>\n",
       "      <th>5</th>\n",
       "      <td>2010-05-08 01:15:00.000000243</td>\n",
       "      <td>7.7</td>\n",
       "      <td>2010-05-08 01:15:00 UTC</td>\n",
       "      <td>-73.965733</td>\n",
       "      <td>40.692628</td>\n",
       "      <td>-73.961562</td>\n",
       "      <td>40.716297</td>\n",
       "      <td>5</td>\n",
       "    </tr>\n",
       "    <tr>\n",
       "      <th>6</th>\n",
       "      <td>2015-01-31 17:41:53.0000001</td>\n",
       "      <td>7.5</td>\n",
       "      <td>2015-01-31 17:41:53 UTC</td>\n",
       "      <td>-73.974045</td>\n",
       "      <td>40.783836</td>\n",
       "      <td>-73.980278</td>\n",
       "      <td>40.764935</td>\n",
       "      <td>1</td>\n",
       "    </tr>\n",
       "    <tr>\n",
       "      <th>6</th>\n",
       "      <td>2014-07-01 23:52:00.00000018</td>\n",
       "      <td>7.5</td>\n",
       "      <td>2014-07-01 23:52:00 UTC</td>\n",
       "      <td>-73.985010</td>\n",
       "      <td>40.747510</td>\n",
       "      <td>-73.978440</td>\n",
       "      <td>40.764740</td>\n",
       "      <td>6</td>\n",
       "    </tr>\n",
       "    <tr>\n",
       "      <th>7</th>\n",
       "      <td>2009-11-21 15:52:33.0000001</td>\n",
       "      <td>8.9</td>\n",
       "      <td>2009-11-21 15:52:33 UTC</td>\n",
       "      <td>-73.979428</td>\n",
       "      <td>40.747161</td>\n",
       "      <td>-73.980598</td>\n",
       "      <td>40.770765</td>\n",
       "      <td>1</td>\n",
       "    </tr>\n",
       "    <tr>\n",
       "      <th>10</th>\n",
       "      <td>2013-09-14 09:56:00.000000114</td>\n",
       "      <td>6.5</td>\n",
       "      <td>2013-09-14 09:56:00 UTC</td>\n",
       "      <td>-73.990082</td>\n",
       "      <td>40.749947</td>\n",
       "      <td>-74.000417</td>\n",
       "      <td>40.757660</td>\n",
       "      <td>1</td>\n",
       "    </tr>\n",
       "    <tr>\n",
       "      <th>14</th>\n",
       "      <td>2009-08-10 09:06:46.0000003</td>\n",
       "      <td>4.5</td>\n",
       "      <td>2009-08-10 09:06:46 UTC</td>\n",
       "      <td>-73.966676</td>\n",
       "      <td>40.757271</td>\n",
       "      <td>-73.973790</td>\n",
       "      <td>40.759743</td>\n",
       "      <td>1</td>\n",
       "    </tr>\n",
       "    <tr>\n",
       "      <th>16</th>\n",
       "      <td>2011-03-23 20:47:24.0000001</td>\n",
       "      <td>10.5</td>\n",
       "      <td>2011-03-23 20:47:24 UTC</td>\n",
       "      <td>-73.984044</td>\n",
       "      <td>40.758590</td>\n",
       "      <td>-74.000518</td>\n",
       "      <td>40.720898</td>\n",
       "      <td>1</td>\n",
       "    </tr>\n",
       "  </tbody>\n",
       "</table>\n",
       "</div>"
      ],
      "text/plain": [
       "                              key  fare_amount          pickup_datetime  \\\n",
       "0   2013-09-26 20:31:00.000000210          8.0  2013-09-26 20:31:00 UTC   \n",
       "0     2012-02-29 14:35:55.0000003          8.1  2012-02-29 14:35:55 UTC   \n",
       "5    2014-07-16 11:02:00.00000094         15.0  2014-07-16 11:02:00 UTC   \n",
       "5   2010-05-08 01:15:00.000000243          7.7  2010-05-08 01:15:00 UTC   \n",
       "6     2015-01-31 17:41:53.0000001          7.5  2015-01-31 17:41:53 UTC   \n",
       "6    2014-07-01 23:52:00.00000018          7.5  2014-07-01 23:52:00 UTC   \n",
       "7     2009-11-21 15:52:33.0000001          8.9  2009-11-21 15:52:33 UTC   \n",
       "10  2013-09-14 09:56:00.000000114          6.5  2013-09-14 09:56:00 UTC   \n",
       "14    2009-08-10 09:06:46.0000003          4.5  2009-08-10 09:06:46 UTC   \n",
       "16    2011-03-23 20:47:24.0000001         10.5  2011-03-23 20:47:24 UTC   \n",
       "\n",
       "    pickup_longitude  pickup_latitude  dropoff_longitude  dropoff_latitude  \\\n",
       "0         -73.975782        40.745062         -73.991407         40.756060   \n",
       "0         -73.986216        40.734511         -73.968246         40.759619   \n",
       "5         -73.962988        40.769505         -73.968017         40.802332   \n",
       "5         -73.965733        40.692628         -73.961562         40.716297   \n",
       "6         -73.974045        40.783836         -73.980278         40.764935   \n",
       "6         -73.985010        40.747510         -73.978440         40.764740   \n",
       "7         -73.979428        40.747161         -73.980598         40.770765   \n",
       "10        -73.990082        40.749947         -74.000417         40.757660   \n",
       "14        -73.966676        40.757271         -73.973790         40.759743   \n",
       "16        -73.984044        40.758590         -74.000518         40.720898   \n",
       "\n",
       "    passenger_count  \n",
       "0                 5  \n",
       "0                 3  \n",
       "5                 1  \n",
       "5                 5  \n",
       "6                 1  \n",
       "6                 6  \n",
       "7                 1  \n",
       "10                1  \n",
       "14                1  \n",
       "16                1  "
      ]
     },
     "execution_count": 60,
     "metadata": {},
     "output_type": "execute_result"
    }
   ],
   "source": [
    "%%time \n",
    "train.head(n=10)"
   ]
  },
  {
   "cell_type": "code",
   "execution_count": 61,
   "metadata": {},
   "outputs": [
    {
     "name": "stdout",
     "output_type": "stream",
     "text": [
      "CPU times: user 606 µs, sys: 56 µs, total: 662 µs\n",
      "Wall time: 642 µs\n"
     ]
    },
    {
     "data": {
      "text/html": [
       "<div>\n",
       "<style scoped>\n",
       "    .dataframe tbody tr th:only-of-type {\n",
       "        vertical-align: middle;\n",
       "    }\n",
       "\n",
       "    .dataframe tbody tr th {\n",
       "        vertical-align: top;\n",
       "    }\n",
       "\n",
       "    .dataframe thead th {\n",
       "        text-align: right;\n",
       "    }\n",
       "</style>\n",
       "<table border=\"1\" class=\"dataframe\">\n",
       "  <thead>\n",
       "    <tr style=\"text-align: right;\">\n",
       "      <th></th>\n",
       "      <th>key</th>\n",
       "      <th>fare_amount</th>\n",
       "      <th>pickup_datetime</th>\n",
       "      <th>pickup_longitude</th>\n",
       "      <th>pickup_latitude</th>\n",
       "      <th>dropoff_longitude</th>\n",
       "      <th>dropoff_latitude</th>\n",
       "      <th>passenger_count</th>\n",
       "    </tr>\n",
       "  </thead>\n",
       "  <tbody>\n",
       "    <tr>\n",
       "      <th>605798</th>\n",
       "      <td>2014-01-13 10:37:44.0000005</td>\n",
       "      <td>8.00</td>\n",
       "      <td>2014-01-13 10:37:44 UTC</td>\n",
       "      <td>-73.970052</td>\n",
       "      <td>40.763596</td>\n",
       "      <td>-73.987623</td>\n",
       "      <td>40.752304</td>\n",
       "      <td>1</td>\n",
       "    </tr>\n",
       "    <tr>\n",
       "      <th>352767</th>\n",
       "      <td>2011-05-12 18:07:00.00000053</td>\n",
       "      <td>8.90</td>\n",
       "      <td>2011-05-12 18:07:00 UTC</td>\n",
       "      <td>-73.967120</td>\n",
       "      <td>40.788462</td>\n",
       "      <td>-73.960023</td>\n",
       "      <td>40.771202</td>\n",
       "      <td>2</td>\n",
       "    </tr>\n",
       "    <tr>\n",
       "      <th>98378</th>\n",
       "      <td>2009-07-22 18:07:00.000000193</td>\n",
       "      <td>6.90</td>\n",
       "      <td>2009-07-22 18:07:00 UTC</td>\n",
       "      <td>-74.002837</td>\n",
       "      <td>40.747117</td>\n",
       "      <td>-73.997948</td>\n",
       "      <td>40.734493</td>\n",
       "      <td>1</td>\n",
       "    </tr>\n",
       "    <tr>\n",
       "      <th>138992</th>\n",
       "      <td>2009-06-13 01:03:00.000000226</td>\n",
       "      <td>9.30</td>\n",
       "      <td>2009-06-13 01:03:00 UTC</td>\n",
       "      <td>-73.986683</td>\n",
       "      <td>40.729882</td>\n",
       "      <td>-73.972283</td>\n",
       "      <td>40.754483</td>\n",
       "      <td>1</td>\n",
       "    </tr>\n",
       "    <tr>\n",
       "      <th>111422</th>\n",
       "      <td>2010-08-01 07:04:00.00000033</td>\n",
       "      <td>49.57</td>\n",
       "      <td>2010-08-01 07:04:00 UTC</td>\n",
       "      <td>-73.785755</td>\n",
       "      <td>40.639600</td>\n",
       "      <td>-73.978192</td>\n",
       "      <td>40.748370</td>\n",
       "      <td>1</td>\n",
       "    </tr>\n",
       "    <tr>\n",
       "      <th>586768</th>\n",
       "      <td>2011-06-12 18:07:00.000000123</td>\n",
       "      <td>9.70</td>\n",
       "      <td>2011-06-12 18:07:00 UTC</td>\n",
       "      <td>-73.991258</td>\n",
       "      <td>40.724013</td>\n",
       "      <td>-73.987867</td>\n",
       "      <td>40.745613</td>\n",
       "      <td>1</td>\n",
       "    </tr>\n",
       "    <tr>\n",
       "      <th>160857</th>\n",
       "      <td>2014-03-22 20:42:46.0000002</td>\n",
       "      <td>20.00</td>\n",
       "      <td>2014-03-22 20:42:46 UTC</td>\n",
       "      <td>-73.986715</td>\n",
       "      <td>40.733174</td>\n",
       "      <td>-73.978355</td>\n",
       "      <td>40.791506</td>\n",
       "      <td>2</td>\n",
       "    </tr>\n",
       "    <tr>\n",
       "      <th>285706</th>\n",
       "      <td>2011-07-25 14:51:57.0000003</td>\n",
       "      <td>10.10</td>\n",
       "      <td>2011-07-25 14:51:57 UTC</td>\n",
       "      <td>-73.992280</td>\n",
       "      <td>40.738098</td>\n",
       "      <td>-74.000326</td>\n",
       "      <td>40.719902</td>\n",
       "      <td>1</td>\n",
       "    </tr>\n",
       "    <tr>\n",
       "      <th>90915</th>\n",
       "      <td>2013-05-03 21:05:00.000000159</td>\n",
       "      <td>4.00</td>\n",
       "      <td>2013-05-03 21:05:00 UTC</td>\n",
       "      <td>-73.978897</td>\n",
       "      <td>40.748135</td>\n",
       "      <td>-73.981825</td>\n",
       "      <td>40.741020</td>\n",
       "      <td>2</td>\n",
       "    </tr>\n",
       "    <tr>\n",
       "      <th>449789</th>\n",
       "      <td>2014-11-14 22:35:00.00000069</td>\n",
       "      <td>13.50</td>\n",
       "      <td>2014-11-14 22:35:00 UTC</td>\n",
       "      <td>-73.992972</td>\n",
       "      <td>40.768222</td>\n",
       "      <td>-73.953757</td>\n",
       "      <td>40.800465</td>\n",
       "      <td>1</td>\n",
       "    </tr>\n",
       "  </tbody>\n",
       "</table>\n",
       "</div>"
      ],
      "text/plain": [
       "                                  key  fare_amount          pickup_datetime  \\\n",
       "605798    2014-01-13 10:37:44.0000005         8.00  2014-01-13 10:37:44 UTC   \n",
       "352767   2011-05-12 18:07:00.00000053         8.90  2011-05-12 18:07:00 UTC   \n",
       "98378   2009-07-22 18:07:00.000000193         6.90  2009-07-22 18:07:00 UTC   \n",
       "138992  2009-06-13 01:03:00.000000226         9.30  2009-06-13 01:03:00 UTC   \n",
       "111422   2010-08-01 07:04:00.00000033        49.57  2010-08-01 07:04:00 UTC   \n",
       "586768  2011-06-12 18:07:00.000000123         9.70  2011-06-12 18:07:00 UTC   \n",
       "160857    2014-03-22 20:42:46.0000002        20.00  2014-03-22 20:42:46 UTC   \n",
       "285706    2011-07-25 14:51:57.0000003        10.10  2011-07-25 14:51:57 UTC   \n",
       "90915   2013-05-03 21:05:00.000000159         4.00  2013-05-03 21:05:00 UTC   \n",
       "449789   2014-11-14 22:35:00.00000069        13.50  2014-11-14 22:35:00 UTC   \n",
       "\n",
       "        pickup_longitude  pickup_latitude  dropoff_longitude  \\\n",
       "605798        -73.970052        40.763596         -73.987623   \n",
       "352767        -73.967120        40.788462         -73.960023   \n",
       "98378         -74.002837        40.747117         -73.997948   \n",
       "138992        -73.986683        40.729882         -73.972283   \n",
       "111422        -73.785755        40.639600         -73.978192   \n",
       "586768        -73.991258        40.724013         -73.987867   \n",
       "160857        -73.986715        40.733174         -73.978355   \n",
       "285706        -73.992280        40.738098         -74.000326   \n",
       "90915         -73.978897        40.748135         -73.981825   \n",
       "449789        -73.992972        40.768222         -73.953757   \n",
       "\n",
       "        dropoff_latitude  passenger_count  \n",
       "605798         40.752304                1  \n",
       "352767         40.771202                2  \n",
       "98378          40.734493                1  \n",
       "138992         40.754483                1  \n",
       "111422         40.748370                1  \n",
       "586768         40.745613                1  \n",
       "160857         40.791506                2  \n",
       "285706         40.719902                1  \n",
       "90915          40.741020                2  \n",
       "449789         40.800465                1  "
      ]
     },
     "execution_count": 61,
     "metadata": {},
     "output_type": "execute_result"
    }
   ],
   "source": [
    "%%time\n",
    "data.head(n=10)"
   ]
  },
  {
   "cell_type": "markdown",
   "metadata": {},
   "source": [
    "fare_amount is our target variable. This is a regression problem."
   ]
  },
  {
   "cell_type": "code",
   "execution_count": 62,
   "metadata": {},
   "outputs": [
    {
     "name": "stdout",
     "output_type": "stream",
     "text": [
      "<class 'dask.dataframe.core.DataFrame'>\n",
      "Columns: 8 entries, key to passenger_count\n",
      "dtypes: object(2), float64(5), int64(1)"
     ]
    }
   ],
   "source": [
    "train.info()"
   ]
  },
  {
   "cell_type": "code",
   "execution_count": 63,
   "metadata": {},
   "outputs": [
    {
     "name": "stdout",
     "output_type": "stream",
     "text": [
      "CPU times: user 213 ms, sys: 0 ns, total: 213 ms\n",
      "Wall time: 211 ms\n"
     ]
    },
    {
     "data": {
      "text/plain": [
       "key                  False\n",
       "fare_amount          False\n",
       "pickup_datetime      False\n",
       "pickup_longitude     False\n",
       "pickup_latitude      False\n",
       "dropoff_longitude     True\n",
       "dropoff_latitude      True\n",
       "passenger_count      False\n",
       "dtype: bool"
      ]
     },
     "execution_count": 63,
     "metadata": {},
     "output_type": "execute_result"
    }
   ],
   "source": [
    "%time data.isna().any()"
   ]
  },
  {
   "cell_type": "code",
   "execution_count": 64,
   "metadata": {},
   "outputs": [
    {
     "name": "stdout",
     "output_type": "stream",
     "text": [
      "CPU times: user 338 ms, sys: 14.8 ms, total: 353 ms\n",
      "Wall time: 339 ms\n"
     ]
    },
    {
     "data": {
      "text/plain": [
       "key                  False\n",
       "fare_amount          False\n",
       "pickup_datetime      False\n",
       "pickup_longitude     False\n",
       "pickup_latitude      False\n",
       "dropoff_longitude     True\n",
       "dropoff_latitude      True\n",
       "passenger_count      False\n",
       "dtype: bool"
      ]
     },
     "execution_count": 64,
     "metadata": {},
     "output_type": "execute_result"
    }
   ],
   "source": [
    "%time train.isna().any().compute()"
   ]
  },
  {
   "cell_type": "markdown",
   "metadata": {},
   "source": [
    "There are missing values in dropoff_latitude and dropoff_longitude columns."
   ]
  },
  {
   "cell_type": "code",
   "execution_count": 65,
   "metadata": {},
   "outputs": [
    {
     "name": "stdout",
     "output_type": "stream",
     "text": [
      "9 9\n",
      "CPU times: user 40.8 ms, sys: 4.86 ms, total: 45.7 ms\n",
      "Wall time: 43.6 ms\n"
     ]
    }
   ],
   "source": [
    "%%time\n",
    "print(train['dropoff_latitude'].isna().sum().compute(),\n",
    "train['dropoff_longitude'].isna().sum().compute())"
   ]
  },
  {
   "cell_type": "code",
   "execution_count": 66,
   "metadata": {},
   "outputs": [
    {
     "name": "stdout",
     "output_type": "stream",
     "text": [
      "9 9\n",
      "CPU times: user 0 ns, sys: 4.24 ms, total: 4.24 ms\n",
      "Wall time: 3.46 ms\n"
     ]
    }
   ],
   "source": [
    "%%time\n",
    "print(data['dropoff_latitude'].isna().sum(),\n",
    "data['dropoff_longitude'].isna().sum())"
   ]
  },
  {
   "cell_type": "markdown",
   "metadata": {},
   "source": [
    "Only 4 missing values in both columns out of 55 lakh values."
   ]
  },
  {
   "cell_type": "code",
   "execution_count": 67,
   "metadata": {},
   "outputs": [
    {
     "name": "stdout",
     "output_type": "stream",
     "text": [
      "CPU times: user 444 ms, sys: 4.76 ms, total: 449 ms\n",
      "Wall time: 320 ms\n"
     ]
    },
    {
     "data": {
      "text/plain": [
       " 0.000000      10492\n",
       " 41.366138       148\n",
       " 40.750415        37\n",
       " 40.750300        35\n",
       " 40.750097        34\n",
       "               ...  \n",
       " 40.772801         1\n",
       " 40.772791         1\n",
       " 40.772781         1\n",
       " 40.772764         1\n",
       "-180.000000        1\n",
       "Name: dropoff_latitude, Length: 140524, dtype: int64"
      ]
     },
     "execution_count": 67,
     "metadata": {},
     "output_type": "execute_result"
    }
   ],
   "source": [
    "%time train['dropoff_latitude'].value_counts().compute()"
   ]
  },
  {
   "cell_type": "code",
   "execution_count": 68,
   "metadata": {},
   "outputs": [
    {
     "name": "stdout",
     "output_type": "stream",
     "text": [
      "CPU times: user 65.3 ms, sys: 0 ns, total: 65.3 ms\n",
      "Wall time: 65.8 ms\n"
     ]
    },
    {
     "data": {
      "text/plain": [
       "0.000000     10492\n",
       "41.366138      148\n",
       "40.750415       37\n",
       "40.750300       35\n",
       "40.750097       34\n",
       "             ...  \n",
       "40.690928        1\n",
       "40.646347        1\n",
       "40.790890        1\n",
       "40.839560        1\n",
       "40.695053        1\n",
       "Name: dropoff_latitude, Length: 140524, dtype: int64"
      ]
     },
     "execution_count": 68,
     "metadata": {},
     "output_type": "execute_result"
    }
   ],
   "source": [
    "%time data['dropoff_latitude'].value_counts()"
   ]
  },
  {
   "cell_type": "code",
   "execution_count": 69,
   "metadata": {},
   "outputs": [
    {
     "data": {
      "text/plain": [
       " 0.000000       10528\n",
       "-73.137393        148\n",
       "-73.988900         44\n",
       "-73.991300         44\n",
       "-73.982400         43\n",
       "                ...  \n",
       "-73.929068          1\n",
       "-73.929070          1\n",
       "-73.929072          1\n",
       "-73.929073          1\n",
       "-2241.062283        1\n",
       "Name: dropoff_longitude, Length: 111402, dtype: int64"
      ]
     },
     "execution_count": 69,
     "metadata": {},
     "output_type": "execute_result"
    }
   ],
   "source": [
    "train['dropoff_longitude'].value_counts().compute()"
   ]
  },
  {
   "cell_type": "markdown",
   "metadata": {},
   "source": [
    "In both of the columns above, 0 is the mode. Let's replace the missing values with mode."
   ]
  },
  {
   "cell_type": "code",
   "execution_count": 70,
   "metadata": {},
   "outputs": [],
   "source": [
    "train['dropoff_latitude'] = train['dropoff_latitude'].fillna(train['dropoff_latitude'].mean().compute())\n",
    "train['dropoff_longitude'] = train['dropoff_longitude'].fillna(train['dropoff_longitude'].mean().compute())"
   ]
  },
  {
   "cell_type": "code",
   "execution_count": 71,
   "metadata": {},
   "outputs": [
    {
     "data": {
      "text/plain": [
       "key                  0\n",
       "fare_amount          0\n",
       "pickup_datetime      0\n",
       "pickup_longitude     0\n",
       "pickup_latitude      0\n",
       "dropoff_longitude    0\n",
       "dropoff_latitude     0\n",
       "passenger_count      0\n",
       "dtype: int64"
      ]
     },
     "execution_count": 71,
     "metadata": {},
     "output_type": "execute_result"
    }
   ],
   "source": [
    "train.isna().sum().compute()"
   ]
  },
  {
   "cell_type": "markdown",
   "metadata": {},
   "source": [
    "Now, there are no missing values. Let's see the distributions of all the numerical columns in the dataset."
   ]
  },
  {
   "cell_type": "code",
   "execution_count": 72,
   "metadata": {},
   "outputs": [
    {
     "name": "stdout",
     "output_type": "stream",
     "text": [
      "Index(['fare_amount', 'pickup_longitude', 'pickup_latitude',\n",
      "       'dropoff_longitude', 'dropoff_latitude', 'passenger_count'],\n",
      "      dtype='object')\n"
     ]
    }
   ],
   "source": [
    "num_cols = train.select_dtypes(include=np.number).columns\n",
    "print(num_cols)"
   ]
  },
  {
   "cell_type": "code",
   "execution_count": 73,
   "metadata": {},
   "outputs": [
    {
     "data": {
      "image/png": "[encoded data removed]",
      "text/plain": [
       "<Figure size 1440x1296 with 6 Axes>"
      ]
     },
     "metadata": {
      "needs_background": "light"
     },
     "output_type": "display_data"
    }
   ],
   "source": [
    "fig,ax = plt.subplots(3,2,figsize=(20,18))\n",
    "ax = ax.flatten()\n",
    "\n",
    "for k,i in enumerate(num_cols):\n",
    "    sns.distplot(train[i], ax=ax[k])"
   ]
  },
  {
   "cell_type": "markdown",
   "metadata": {},
   "source": [
    "## FEATURE ENGINEERING"
   ]
  },
  {
   "cell_type": "code",
   "execution_count": 74,
   "metadata": {},
   "outputs": [
    {
     "data": {
      "text/html": [
       "<div>\n",
       "<style scoped>\n",
       "    .dataframe tbody tr th:only-of-type {\n",
       "        vertical-align: middle;\n",
       "    }\n",
       "\n",
       "    .dataframe tbody tr th {\n",
       "        vertical-align: top;\n",
       "    }\n",
       "\n",
       "    .dataframe thead th {\n",
       "        text-align: right;\n",
       "    }\n",
       "</style>\n",
       "<table border=\"1\" class=\"dataframe\">\n",
       "  <thead>\n",
       "    <tr style=\"text-align: right;\">\n",
       "      <th></th>\n",
       "      <th>key</th>\n",
       "      <th>fare_amount</th>\n",
       "      <th>pickup_datetime</th>\n",
       "      <th>pickup_longitude</th>\n",
       "      <th>pickup_latitude</th>\n",
       "      <th>dropoff_longitude</th>\n",
       "      <th>dropoff_latitude</th>\n",
       "      <th>passenger_count</th>\n",
       "    </tr>\n",
       "  </thead>\n",
       "  <tbody>\n",
       "    <tr>\n",
       "      <th>0</th>\n",
       "      <td>2013-09-26 20:31:00.000000210</td>\n",
       "      <td>8.0</td>\n",
       "      <td>2013-09-26 20:31:00 UTC</td>\n",
       "      <td>-73.975782</td>\n",
       "      <td>40.745062</td>\n",
       "      <td>-73.991407</td>\n",
       "      <td>40.756060</td>\n",
       "      <td>5</td>\n",
       "    </tr>\n",
       "    <tr>\n",
       "      <th>0</th>\n",
       "      <td>2012-02-29 14:35:55.0000003</td>\n",
       "      <td>8.1</td>\n",
       "      <td>2012-02-29 14:35:55 UTC</td>\n",
       "      <td>-73.986216</td>\n",
       "      <td>40.734511</td>\n",
       "      <td>-73.968246</td>\n",
       "      <td>40.759619</td>\n",
       "      <td>3</td>\n",
       "    </tr>\n",
       "    <tr>\n",
       "      <th>5</th>\n",
       "      <td>2014-07-16 11:02:00.00000094</td>\n",
       "      <td>15.0</td>\n",
       "      <td>2014-07-16 11:02:00 UTC</td>\n",
       "      <td>-73.962988</td>\n",
       "      <td>40.769505</td>\n",
       "      <td>-73.968017</td>\n",
       "      <td>40.802332</td>\n",
       "      <td>1</td>\n",
       "    </tr>\n",
       "    <tr>\n",
       "      <th>5</th>\n",
       "      <td>2010-05-08 01:15:00.000000243</td>\n",
       "      <td>7.7</td>\n",
       "      <td>2010-05-08 01:15:00 UTC</td>\n",
       "      <td>-73.965733</td>\n",
       "      <td>40.692628</td>\n",
       "      <td>-73.961562</td>\n",
       "      <td>40.716297</td>\n",
       "      <td>5</td>\n",
       "    </tr>\n",
       "    <tr>\n",
       "      <th>6</th>\n",
       "      <td>2015-01-31 17:41:53.0000001</td>\n",
       "      <td>7.5</td>\n",
       "      <td>2015-01-31 17:41:53 UTC</td>\n",
       "      <td>-73.974045</td>\n",
       "      <td>40.783836</td>\n",
       "      <td>-73.980278</td>\n",
       "      <td>40.764935</td>\n",
       "      <td>1</td>\n",
       "    </tr>\n",
       "    <tr>\n",
       "      <th>6</th>\n",
       "      <td>2014-07-01 23:52:00.00000018</td>\n",
       "      <td>7.5</td>\n",
       "      <td>2014-07-01 23:52:00 UTC</td>\n",
       "      <td>-73.985010</td>\n",
       "      <td>40.747510</td>\n",
       "      <td>-73.978440</td>\n",
       "      <td>40.764740</td>\n",
       "      <td>6</td>\n",
       "    </tr>\n",
       "    <tr>\n",
       "      <th>7</th>\n",
       "      <td>2009-11-21 15:52:33.0000001</td>\n",
       "      <td>8.9</td>\n",
       "      <td>2009-11-21 15:52:33 UTC</td>\n",
       "      <td>-73.979428</td>\n",
       "      <td>40.747161</td>\n",
       "      <td>-73.980598</td>\n",
       "      <td>40.770765</td>\n",
       "      <td>1</td>\n",
       "    </tr>\n",
       "    <tr>\n",
       "      <th>10</th>\n",
       "      <td>2013-09-14 09:56:00.000000114</td>\n",
       "      <td>6.5</td>\n",
       "      <td>2013-09-14 09:56:00 UTC</td>\n",
       "      <td>-73.990082</td>\n",
       "      <td>40.749947</td>\n",
       "      <td>-74.000417</td>\n",
       "      <td>40.757660</td>\n",
       "      <td>1</td>\n",
       "    </tr>\n",
       "    <tr>\n",
       "      <th>14</th>\n",
       "      <td>2009-08-10 09:06:46.0000003</td>\n",
       "      <td>4.5</td>\n",
       "      <td>2009-08-10 09:06:46 UTC</td>\n",
       "      <td>-73.966676</td>\n",
       "      <td>40.757271</td>\n",
       "      <td>-73.973790</td>\n",
       "      <td>40.759743</td>\n",
       "      <td>1</td>\n",
       "    </tr>\n",
       "    <tr>\n",
       "      <th>16</th>\n",
       "      <td>2011-03-23 20:47:24.0000001</td>\n",
       "      <td>10.5</td>\n",
       "      <td>2011-03-23 20:47:24 UTC</td>\n",
       "      <td>-73.984044</td>\n",
       "      <td>40.758590</td>\n",
       "      <td>-74.000518</td>\n",
       "      <td>40.720898</td>\n",
       "      <td>1</td>\n",
       "    </tr>\n",
       "  </tbody>\n",
       "</table>\n",
       "</div>"
      ],
      "text/plain": [
       "                              key  fare_amount          pickup_datetime  \\\n",
       "0   2013-09-26 20:31:00.000000210          8.0  2013-09-26 20:31:00 UTC   \n",
       "0     2012-02-29 14:35:55.0000003          8.1  2012-02-29 14:35:55 UTC   \n",
       "5    2014-07-16 11:02:00.00000094         15.0  2014-07-16 11:02:00 UTC   \n",
       "5   2010-05-08 01:15:00.000000243          7.7  2010-05-08 01:15:00 UTC   \n",
       "6     2015-01-31 17:41:53.0000001          7.5  2015-01-31 17:41:53 UTC   \n",
       "6    2014-07-01 23:52:00.00000018          7.5  2014-07-01 23:52:00 UTC   \n",
       "7     2009-11-21 15:52:33.0000001          8.9  2009-11-21 15:52:33 UTC   \n",
       "10  2013-09-14 09:56:00.000000114          6.5  2013-09-14 09:56:00 UTC   \n",
       "14    2009-08-10 09:06:46.0000003          4.5  2009-08-10 09:06:46 UTC   \n",
       "16    2011-03-23 20:47:24.0000001         10.5  2011-03-23 20:47:24 UTC   \n",
       "\n",
       "    pickup_longitude  pickup_latitude  dropoff_longitude  dropoff_latitude  \\\n",
       "0         -73.975782        40.745062         -73.991407         40.756060   \n",
       "0         -73.986216        40.734511         -73.968246         40.759619   \n",
       "5         -73.962988        40.769505         -73.968017         40.802332   \n",
       "5         -73.965733        40.692628         -73.961562         40.716297   \n",
       "6         -73.974045        40.783836         -73.980278         40.764935   \n",
       "6         -73.985010        40.747510         -73.978440         40.764740   \n",
       "7         -73.979428        40.747161         -73.980598         40.770765   \n",
       "10        -73.990082        40.749947         -74.000417         40.757660   \n",
       "14        -73.966676        40.757271         -73.973790         40.759743   \n",
       "16        -73.984044        40.758590         -74.000518         40.720898   \n",
       "\n",
       "    passenger_count  \n",
       "0                 5  \n",
       "0                 3  \n",
       "5                 1  \n",
       "5                 5  \n",
       "6                 1  \n",
       "6                 6  \n",
       "7                 1  \n",
       "10                1  \n",
       "14                1  \n",
       "16                1  "
      ]
     },
     "execution_count": 74,
     "metadata": {},
     "output_type": "execute_result"
    }
   ],
   "source": [
    "train.head(n=10)"
   ]
  },
  {
   "cell_type": "markdown",
   "metadata": {},
   "source": [
    "One feature we can create is the distance(in km) between the given geographical points."
   ]
  },
  {
   "cell_type": "code",
   "execution_count": 75,
   "metadata": {},
   "outputs": [
    {
     "name": "stderr",
     "output_type": "stream",
     "text": [
      "/home/mendax/.local/lib/python3.6/site-packages/dask/dataframe/core.py:4083: UserWarning: \n",
      "You did not provide metadata, so Dask is running your function on a small dataset to guess output types. It is possible that Dask will guess incorrectly.\n",
      "To provide an explicit output types or to silence this message, please provide the `meta=` keyword, as described in the map or apply function that you are using.\n",
      "  Before: .apply(func)\n",
      "  After:  .apply(func, meta=(None, 'float64'))\n",
      "\n",
      "  warnings.warn(meta_warning(meta))\n"
     ]
    }
   ],
   "source": [
    "train['hdist'] = train.apply(lambda x: haversine((x['pickup_latitude'], x['pickup_longitude']), (x['dropoff_latitude'], x['dropoff_longitude'])), axis = 1)"
   ]
  },
  {
   "cell_type": "code",
   "execution_count": 76,
   "metadata": {},
   "outputs": [
    {
     "data": {
      "text/html": [
       "<div>\n",
       "<style scoped>\n",
       "    .dataframe tbody tr th:only-of-type {\n",
       "        vertical-align: middle;\n",
       "    }\n",
       "\n",
       "    .dataframe tbody tr th {\n",
       "        vertical-align: top;\n",
       "    }\n",
       "\n",
       "    .dataframe thead th {\n",
       "        text-align: right;\n",
       "    }\n",
       "</style>\n",
       "<table border=\"1\" class=\"dataframe\">\n",
       "  <thead>\n",
       "    <tr style=\"text-align: right;\">\n",
       "      <th></th>\n",
       "      <th>key</th>\n",
       "      <th>fare_amount</th>\n",
       "      <th>pickup_datetime</th>\n",
       "      <th>pickup_longitude</th>\n",
       "      <th>pickup_latitude</th>\n",
       "      <th>dropoff_longitude</th>\n",
       "      <th>dropoff_latitude</th>\n",
       "      <th>passenger_count</th>\n",
       "      <th>hdist</th>\n",
       "    </tr>\n",
       "  </thead>\n",
       "  <tbody>\n",
       "    <tr>\n",
       "      <th>0</th>\n",
       "      <td>2013-09-26 20:31:00.000000210</td>\n",
       "      <td>8.0</td>\n",
       "      <td>2013-09-26 20:31:00 UTC</td>\n",
       "      <td>-73.975782</td>\n",
       "      <td>40.745062</td>\n",
       "      <td>-73.991407</td>\n",
       "      <td>40.756060</td>\n",
       "      <td>5</td>\n",
       "      <td>1.796642</td>\n",
       "    </tr>\n",
       "    <tr>\n",
       "      <th>0</th>\n",
       "      <td>2012-02-29 14:35:55.0000003</td>\n",
       "      <td>8.1</td>\n",
       "      <td>2012-02-29 14:35:55 UTC</td>\n",
       "      <td>-73.986216</td>\n",
       "      <td>40.734511</td>\n",
       "      <td>-73.968246</td>\n",
       "      <td>40.759619</td>\n",
       "      <td>3</td>\n",
       "      <td>3.175888</td>\n",
       "    </tr>\n",
       "    <tr>\n",
       "      <th>5</th>\n",
       "      <td>2014-07-16 11:02:00.00000094</td>\n",
       "      <td>15.0</td>\n",
       "      <td>2014-07-16 11:02:00 UTC</td>\n",
       "      <td>-73.962988</td>\n",
       "      <td>40.769505</td>\n",
       "      <td>-73.968017</td>\n",
       "      <td>40.802332</td>\n",
       "      <td>1</td>\n",
       "      <td>3.674675</td>\n",
       "    </tr>\n",
       "    <tr>\n",
       "      <th>5</th>\n",
       "      <td>2010-05-08 01:15:00.000000243</td>\n",
       "      <td>7.7</td>\n",
       "      <td>2010-05-08 01:15:00 UTC</td>\n",
       "      <td>-73.965733</td>\n",
       "      <td>40.692628</td>\n",
       "      <td>-73.961562</td>\n",
       "      <td>40.716297</td>\n",
       "      <td>5</td>\n",
       "      <td>2.655257</td>\n",
       "    </tr>\n",
       "    <tr>\n",
       "      <th>6</th>\n",
       "      <td>2015-01-31 17:41:53.0000001</td>\n",
       "      <td>7.5</td>\n",
       "      <td>2015-01-31 17:41:53 UTC</td>\n",
       "      <td>-73.974045</td>\n",
       "      <td>40.783836</td>\n",
       "      <td>-73.980278</td>\n",
       "      <td>40.764935</td>\n",
       "      <td>1</td>\n",
       "      <td>2.166337</td>\n",
       "    </tr>\n",
       "    <tr>\n",
       "      <th>6</th>\n",
       "      <td>2014-07-01 23:52:00.00000018</td>\n",
       "      <td>7.5</td>\n",
       "      <td>2014-07-01 23:52:00 UTC</td>\n",
       "      <td>-73.985010</td>\n",
       "      <td>40.747510</td>\n",
       "      <td>-73.978440</td>\n",
       "      <td>40.764740</td>\n",
       "      <td>6</td>\n",
       "      <td>1.994211</td>\n",
       "    </tr>\n",
       "    <tr>\n",
       "      <th>7</th>\n",
       "      <td>2009-11-21 15:52:33.0000001</td>\n",
       "      <td>8.9</td>\n",
       "      <td>2009-11-21 15:52:33 UTC</td>\n",
       "      <td>-73.979428</td>\n",
       "      <td>40.747161</td>\n",
       "      <td>-73.980598</td>\n",
       "      <td>40.770765</td>\n",
       "      <td>1</td>\n",
       "      <td>2.626498</td>\n",
       "    </tr>\n",
       "    <tr>\n",
       "      <th>10</th>\n",
       "      <td>2013-09-14 09:56:00.000000114</td>\n",
       "      <td>6.5</td>\n",
       "      <td>2013-09-14 09:56:00 UTC</td>\n",
       "      <td>-73.990082</td>\n",
       "      <td>40.749947</td>\n",
       "      <td>-74.000417</td>\n",
       "      <td>40.757660</td>\n",
       "      <td>1</td>\n",
       "      <td>1.222051</td>\n",
       "    </tr>\n",
       "    <tr>\n",
       "      <th>14</th>\n",
       "      <td>2009-08-10 09:06:46.0000003</td>\n",
       "      <td>4.5</td>\n",
       "      <td>2009-08-10 09:06:46 UTC</td>\n",
       "      <td>-73.966676</td>\n",
       "      <td>40.757271</td>\n",
       "      <td>-73.973790</td>\n",
       "      <td>40.759743</td>\n",
       "      <td>1</td>\n",
       "      <td>0.659229</td>\n",
       "    </tr>\n",
       "    <tr>\n",
       "      <th>16</th>\n",
       "      <td>2011-03-23 20:47:24.0000001</td>\n",
       "      <td>10.5</td>\n",
       "      <td>2011-03-23 20:47:24 UTC</td>\n",
       "      <td>-73.984044</td>\n",
       "      <td>40.758590</td>\n",
       "      <td>-74.000518</td>\n",
       "      <td>40.720898</td>\n",
       "      <td>1</td>\n",
       "      <td>4.415003</td>\n",
       "    </tr>\n",
       "  </tbody>\n",
       "</table>\n",
       "</div>"
      ],
      "text/plain": [
       "                              key  fare_amount          pickup_datetime  \\\n",
       "0   2013-09-26 20:31:00.000000210          8.0  2013-09-26 20:31:00 UTC   \n",
       "0     2012-02-29 14:35:55.0000003          8.1  2012-02-29 14:35:55 UTC   \n",
       "5    2014-07-16 11:02:00.00000094         15.0  2014-07-16 11:02:00 UTC   \n",
       "5   2010-05-08 01:15:00.000000243          7.7  2010-05-08 01:15:00 UTC   \n",
       "6     2015-01-31 17:41:53.0000001          7.5  2015-01-31 17:41:53 UTC   \n",
       "6    2014-07-01 23:52:00.00000018          7.5  2014-07-01 23:52:00 UTC   \n",
       "7     2009-11-21 15:52:33.0000001          8.9  2009-11-21 15:52:33 UTC   \n",
       "10  2013-09-14 09:56:00.000000114          6.5  2013-09-14 09:56:00 UTC   \n",
       "14    2009-08-10 09:06:46.0000003          4.5  2009-08-10 09:06:46 UTC   \n",
       "16    2011-03-23 20:47:24.0000001         10.5  2011-03-23 20:47:24 UTC   \n",
       "\n",
       "    pickup_longitude  pickup_latitude  dropoff_longitude  dropoff_latitude  \\\n",
       "0         -73.975782        40.745062         -73.991407         40.756060   \n",
       "0         -73.986216        40.734511         -73.968246         40.759619   \n",
       "5         -73.962988        40.769505         -73.968017         40.802332   \n",
       "5         -73.965733        40.692628         -73.961562         40.716297   \n",
       "6         -73.974045        40.783836         -73.980278         40.764935   \n",
       "6         -73.985010        40.747510         -73.978440         40.764740   \n",
       "7         -73.979428        40.747161         -73.980598         40.770765   \n",
       "10        -73.990082        40.749947         -74.000417         40.757660   \n",
       "14        -73.966676        40.757271         -73.973790         40.759743   \n",
       "16        -73.984044        40.758590         -74.000518         40.720898   \n",
       "\n",
       "    passenger_count     hdist  \n",
       "0                 5  1.796642  \n",
       "0                 3  3.175888  \n",
       "5                 1  3.674675  \n",
       "5                 5  2.655257  \n",
       "6                 1  2.166337  \n",
       "6                 6  1.994211  \n",
       "7                 1  2.626498  \n",
       "10                1  1.222051  \n",
       "14                1  0.659229  \n",
       "16                1  4.415003  "
      ]
     },
     "execution_count": 76,
     "metadata": {},
     "output_type": "execute_result"
    }
   ],
   "source": [
    "train.head(n=10)"
   ]
  },
  {
   "cell_type": "code",
   "execution_count": 77,
   "metadata": {},
   "outputs": [
    {
     "data": {
      "text/plain": [
       "<matplotlib.axes._subplots.AxesSubplot at 0x7fb3ec36e128>"
      ]
     },
     "execution_count": 77,
     "metadata": {},
     "output_type": "execute_result"
    },
    {
     "data": {
      "image/png": "[encoded data removed]",
      "text/plain": [
       "<Figure size 720x432 with 2 Axes>"
      ]
     },
     "metadata": {
      "needs_background": "light"
     },
     "output_type": "display_data"
    }
   ],
   "source": [
    "plt.figure(figsize=(10,6))\n",
    "sns.heatmap(train.corr().compute(), annot=True)"
   ]
  },
  {
   "cell_type": "markdown",
   "metadata": {},
   "source": [
    "No features are correlated with the target variables. Latitudes and Longitudes are correlated to each other."
   ]
  },
  {
   "cell_type": "code",
   "execution_count": 78,
   "metadata": {},
   "outputs": [],
   "source": [
    "train['pickup_datetime'] = dd.to_datetime(train['pickup_datetime'])"
   ]
  },
  {
   "cell_type": "code",
   "execution_count": 79,
   "metadata": {},
   "outputs": [
    {
     "name": "stderr",
     "output_type": "stream",
     "text": [
      "/home/mendax/.local/lib/python3.6/site-packages/dask/dataframe/core.py:3020: UserWarning: \n",
      "You did not provide metadata, so Dask is running your function on a small dataset to guess output types. It is possible that Dask will guess incorrectly.\n",
      "To provide an explicit output types or to silence this message, please provide the `meta=` keyword, as described in the map or apply function that you are using.\n",
      "  Before: .apply(func)\n",
      "  After:  .apply(func, meta=('pickup_datetime', 'int64'))\n",
      "\n",
      "  warnings.warn(meta_warning(meta))\n",
      "/home/mendax/.local/lib/python3.6/site-packages/ipykernel_launcher.py:4: FutureWarning: `weekday_name` is deprecated and will be removed in a future version. Use `day_name` instead\n",
      "  after removing the cwd from sys.path.\n"
     ]
    }
   ],
   "source": [
    "train['pickup_month'] = train['pickup_datetime'].apply(lambda x : x.month)\n",
    "train['pickup_day'] = train['pickup_datetime'].apply(lambda x : x.day)\n",
    "train['pickup_hour'] = train['pickup_datetime'].apply(lambda x : x.hour)\n",
    "train['isweekend'] = train['pickup_datetime'].apply(lambda x : 1 if x.weekday_name in ['Sunday', 'Saturday'] else 0)"
   ]
  },
  {
   "cell_type": "code",
   "execution_count": 80,
   "metadata": {},
   "outputs": [
    {
     "name": "stderr",
     "output_type": "stream",
     "text": [
      "/home/mendax/.local/lib/python3.6/site-packages/ipykernel_launcher.py:4: FutureWarning: `weekday_name` is deprecated and will be removed in a future version. Use `day_name` instead\n",
      "  after removing the cwd from sys.path.\n"
     ]
    },
    {
     "data": {
      "text/html": [
       "<div>\n",
       "<style scoped>\n",
       "    .dataframe tbody tr th:only-of-type {\n",
       "        vertical-align: middle;\n",
       "    }\n",
       "\n",
       "    .dataframe tbody tr th {\n",
       "        vertical-align: top;\n",
       "    }\n",
       "\n",
       "    .dataframe thead th {\n",
       "        text-align: right;\n",
       "    }\n",
       "</style>\n",
       "<table border=\"1\" class=\"dataframe\">\n",
       "  <thead>\n",
       "    <tr style=\"text-align: right;\">\n",
       "      <th></th>\n",
       "      <th>key</th>\n",
       "      <th>fare_amount</th>\n",
       "      <th>pickup_datetime</th>\n",
       "      <th>pickup_longitude</th>\n",
       "      <th>pickup_latitude</th>\n",
       "      <th>dropoff_longitude</th>\n",
       "      <th>dropoff_latitude</th>\n",
       "      <th>passenger_count</th>\n",
       "      <th>hdist</th>\n",
       "      <th>pickup_month</th>\n",
       "      <th>pickup_day</th>\n",
       "      <th>pickup_hour</th>\n",
       "      <th>isweekend</th>\n",
       "    </tr>\n",
       "  </thead>\n",
       "  <tbody>\n",
       "    <tr>\n",
       "      <th>0</th>\n",
       "      <td>2013-09-26 20:31:00.000000210</td>\n",
       "      <td>8.0</td>\n",
       "      <td>2013-09-26 20:31:00+00:00</td>\n",
       "      <td>-73.975782</td>\n",
       "      <td>40.745062</td>\n",
       "      <td>-73.991407</td>\n",
       "      <td>40.756060</td>\n",
       "      <td>5</td>\n",
       "      <td>1.796642</td>\n",
       "      <td>9</td>\n",
       "      <td>26</td>\n",
       "      <td>20</td>\n",
       "      <td>0</td>\n",
       "    </tr>\n",
       "    <tr>\n",
       "      <th>0</th>\n",
       "      <td>2012-02-29 14:35:55.0000003</td>\n",
       "      <td>8.1</td>\n",
       "      <td>2012-02-29 14:35:55+00:00</td>\n",
       "      <td>-73.986216</td>\n",
       "      <td>40.734511</td>\n",
       "      <td>-73.968246</td>\n",
       "      <td>40.759619</td>\n",
       "      <td>3</td>\n",
       "      <td>3.175888</td>\n",
       "      <td>2</td>\n",
       "      <td>29</td>\n",
       "      <td>14</td>\n",
       "      <td>0</td>\n",
       "    </tr>\n",
       "    <tr>\n",
       "      <th>5</th>\n",
       "      <td>2014-07-16 11:02:00.00000094</td>\n",
       "      <td>15.0</td>\n",
       "      <td>2014-07-16 11:02:00+00:00</td>\n",
       "      <td>-73.962988</td>\n",
       "      <td>40.769505</td>\n",
       "      <td>-73.968017</td>\n",
       "      <td>40.802332</td>\n",
       "      <td>1</td>\n",
       "      <td>3.674675</td>\n",
       "      <td>7</td>\n",
       "      <td>16</td>\n",
       "      <td>11</td>\n",
       "      <td>0</td>\n",
       "    </tr>\n",
       "    <tr>\n",
       "      <th>5</th>\n",
       "      <td>2010-05-08 01:15:00.000000243</td>\n",
       "      <td>7.7</td>\n",
       "      <td>2010-05-08 01:15:00+00:00</td>\n",
       "      <td>-73.965733</td>\n",
       "      <td>40.692628</td>\n",
       "      <td>-73.961562</td>\n",
       "      <td>40.716297</td>\n",
       "      <td>5</td>\n",
       "      <td>2.655257</td>\n",
       "      <td>5</td>\n",
       "      <td>8</td>\n",
       "      <td>1</td>\n",
       "      <td>1</td>\n",
       "    </tr>\n",
       "    <tr>\n",
       "      <th>6</th>\n",
       "      <td>2015-01-31 17:41:53.0000001</td>\n",
       "      <td>7.5</td>\n",
       "      <td>2015-01-31 17:41:53+00:00</td>\n",
       "      <td>-73.974045</td>\n",
       "      <td>40.783836</td>\n",
       "      <td>-73.980278</td>\n",
       "      <td>40.764935</td>\n",
       "      <td>1</td>\n",
       "      <td>2.166337</td>\n",
       "      <td>1</td>\n",
       "      <td>31</td>\n",
       "      <td>17</td>\n",
       "      <td>1</td>\n",
       "    </tr>\n",
       "    <tr>\n",
       "      <th>6</th>\n",
       "      <td>2014-07-01 23:52:00.00000018</td>\n",
       "      <td>7.5</td>\n",
       "      <td>2014-07-01 23:52:00+00:00</td>\n",
       "      <td>-73.985010</td>\n",
       "      <td>40.747510</td>\n",
       "      <td>-73.978440</td>\n",
       "      <td>40.764740</td>\n",
       "      <td>6</td>\n",
       "      <td>1.994211</td>\n",
       "      <td>7</td>\n",
       "      <td>1</td>\n",
       "      <td>23</td>\n",
       "      <td>0</td>\n",
       "    </tr>\n",
       "    <tr>\n",
       "      <th>7</th>\n",
       "      <td>2009-11-21 15:52:33.0000001</td>\n",
       "      <td>8.9</td>\n",
       "      <td>2009-11-21 15:52:33+00:00</td>\n",
       "      <td>-73.979428</td>\n",
       "      <td>40.747161</td>\n",
       "      <td>-73.980598</td>\n",
       "      <td>40.770765</td>\n",
       "      <td>1</td>\n",
       "      <td>2.626498</td>\n",
       "      <td>11</td>\n",
       "      <td>21</td>\n",
       "      <td>15</td>\n",
       "      <td>1</td>\n",
       "    </tr>\n",
       "    <tr>\n",
       "      <th>10</th>\n",
       "      <td>2013-09-14 09:56:00.000000114</td>\n",
       "      <td>6.5</td>\n",
       "      <td>2013-09-14 09:56:00+00:00</td>\n",
       "      <td>-73.990082</td>\n",
       "      <td>40.749947</td>\n",
       "      <td>-74.000417</td>\n",
       "      <td>40.757660</td>\n",
       "      <td>1</td>\n",
       "      <td>1.222051</td>\n",
       "      <td>9</td>\n",
       "      <td>14</td>\n",
       "      <td>9</td>\n",
       "      <td>1</td>\n",
       "    </tr>\n",
       "    <tr>\n",
       "      <th>14</th>\n",
       "      <td>2009-08-10 09:06:46.0000003</td>\n",
       "      <td>4.5</td>\n",
       "      <td>2009-08-10 09:06:46+00:00</td>\n",
       "      <td>-73.966676</td>\n",
       "      <td>40.757271</td>\n",
       "      <td>-73.973790</td>\n",
       "      <td>40.759743</td>\n",
       "      <td>1</td>\n",
       "      <td>0.659229</td>\n",
       "      <td>8</td>\n",
       "      <td>10</td>\n",
       "      <td>9</td>\n",
       "      <td>0</td>\n",
       "    </tr>\n",
       "    <tr>\n",
       "      <th>16</th>\n",
       "      <td>2011-03-23 20:47:24.0000001</td>\n",
       "      <td>10.5</td>\n",
       "      <td>2011-03-23 20:47:24+00:00</td>\n",
       "      <td>-73.984044</td>\n",
       "      <td>40.758590</td>\n",
       "      <td>-74.000518</td>\n",
       "      <td>40.720898</td>\n",
       "      <td>1</td>\n",
       "      <td>4.415003</td>\n",
       "      <td>3</td>\n",
       "      <td>23</td>\n",
       "      <td>20</td>\n",
       "      <td>0</td>\n",
       "    </tr>\n",
       "  </tbody>\n",
       "</table>\n",
       "</div>"
      ],
      "text/plain": [
       "                              key  fare_amount           pickup_datetime  \\\n",
       "0   2013-09-26 20:31:00.000000210          8.0 2013-09-26 20:31:00+00:00   \n",
       "0     2012-02-29 14:35:55.0000003          8.1 2012-02-29 14:35:55+00:00   \n",
       "5    2014-07-16 11:02:00.00000094         15.0 2014-07-16 11:02:00+00:00   \n",
       "5   2010-05-08 01:15:00.000000243          7.7 2010-05-08 01:15:00+00:00   \n",
       "6     2015-01-31 17:41:53.0000001          7.5 2015-01-31 17:41:53+00:00   \n",
       "6    2014-07-01 23:52:00.00000018          7.5 2014-07-01 23:52:00+00:00   \n",
       "7     2009-11-21 15:52:33.0000001          8.9 2009-11-21 15:52:33+00:00   \n",
       "10  2013-09-14 09:56:00.000000114          6.5 2013-09-14 09:56:00+00:00   \n",
       "14    2009-08-10 09:06:46.0000003          4.5 2009-08-10 09:06:46+00:00   \n",
       "16    2011-03-23 20:47:24.0000001         10.5 2011-03-23 20:47:24+00:00   \n",
       "\n",
       "    pickup_longitude  pickup_latitude  dropoff_longitude  dropoff_latitude  \\\n",
       "0         -73.975782        40.745062         -73.991407         40.756060   \n",
       "0         -73.986216        40.734511         -73.968246         40.759619   \n",
       "5         -73.962988        40.769505         -73.968017         40.802332   \n",
       "5         -73.965733        40.692628         -73.961562         40.716297   \n",
       "6         -73.974045        40.783836         -73.980278         40.764935   \n",
       "6         -73.985010        40.747510         -73.978440         40.764740   \n",
       "7         -73.979428        40.747161         -73.980598         40.770765   \n",
       "10        -73.990082        40.749947         -74.000417         40.757660   \n",
       "14        -73.966676        40.757271         -73.973790         40.759743   \n",
       "16        -73.984044        40.758590         -74.000518         40.720898   \n",
       "\n",
       "    passenger_count     hdist  pickup_month  pickup_day  pickup_hour  \\\n",
       "0                 5  1.796642             9          26           20   \n",
       "0                 3  3.175888             2          29           14   \n",
       "5                 1  3.674675             7          16           11   \n",
       "5                 5  2.655257             5           8            1   \n",
       "6                 1  2.166337             1          31           17   \n",
       "6                 6  1.994211             7           1           23   \n",
       "7                 1  2.626498            11          21           15   \n",
       "10                1  1.222051             9          14            9   \n",
       "14                1  0.659229             8          10            9   \n",
       "16                1  4.415003             3          23           20   \n",
       "\n",
       "    isweekend  \n",
       "0           0  \n",
       "0           0  \n",
       "5           0  \n",
       "5           1  \n",
       "6           1  \n",
       "6           0  \n",
       "7           1  \n",
       "10          1  \n",
       "14          0  \n",
       "16          0  "
      ]
     },
     "execution_count": 80,
     "metadata": {},
     "output_type": "execute_result"
    }
   ],
   "source": [
    "train.head(n=10)"
   ]
  },
  {
   "cell_type": "code",
   "execution_count": 81,
   "metadata": {},
   "outputs": [
    {
     "name": "stderr",
     "output_type": "stream",
     "text": [
      "/home/mendax/.local/lib/python3.6/site-packages/ipykernel_launcher.py:4: FutureWarning: `weekday_name` is deprecated and will be removed in a future version. Use `day_name` instead\n",
      "  after removing the cwd from sys.path.\n",
      "/home/mendax/.local/lib/python3.6/site-packages/ipykernel_launcher.py:4: FutureWarning: `weekday_name` is deprecated and will be removed in a future version. Use `day_name` instead\n",
      "  after removing the cwd from sys.path.\n",
      "/home/mendax/.local/lib/python3.6/site-packages/ipykernel_launcher.py:4: FutureWarning: `weekday_name` is deprecated and will be removed in a future version. Use `day_name` instead\n",
      "  after removing the cwd from sys.path.\n",
      "/home/mendax/.local/lib/python3.6/site-packages/ipykernel_launcher.py:4: FutureWarning: `weekday_name` is deprecated and will be removed in a future version. Use `day_name` instead\n",
      "  after removing the cwd from sys.path.\n",
      "/home/mendax/.local/lib/python3.6/site-packages/ipykernel_launcher.py:4: FutureWarning: `weekday_name` is deprecated and will be removed in a future version. Use `day_name` instead\n",
      "  after removing the cwd from sys.path.\n",
      "/home/mendax/.local/lib/python3.6/site-packages/ipykernel_launcher.py:4: FutureWarning: `weekday_name` is deprecated and will be removed in a future version. Use `day_name` instead\n",
      "  after removing the cwd from sys.path.\n",
      "/home/mendax/.local/lib/python3.6/site-packages/ipykernel_launcher.py:4: FutureWarning: `weekday_name` is deprecated and will be removed in a future version. Use `day_name` instead\n",
      "  after removing the cwd from sys.path.\n",
      "/home/mendax/.local/lib/python3.6/site-packages/ipykernel_launcher.py:4: FutureWarning: `weekday_name` is deprecated and will be removed in a future version. Use `day_name` instead\n",
      "  after removing the cwd from sys.path.\n",
      "/home/mendax/.local/lib/python3.6/site-packages/ipykernel_launcher.py:4: FutureWarning: `weekday_name` is deprecated and will be removed in a future version. Use `day_name` instead\n",
      "  after removing the cwd from sys.path.\n",
      "/home/mendax/.local/lib/python3.6/site-packages/ipykernel_launcher.py:4: FutureWarning: `weekday_name` is deprecated and will be removed in a future version. Use `day_name` instead\n",
      "  after removing the cwd from sys.path.\n",
      "/home/mendax/.local/lib/python3.6/site-packages/ipykernel_launcher.py:4: FutureWarning: `weekday_name` is deprecated and will be removed in a future version. Use `day_name` instead\n",
      "  after removing the cwd from sys.path.\n"
     ]
    },
    {
     "data": {
      "text/plain": [
       "<matplotlib.axes._subplots.AxesSubplot at 0x7fb40287bf60>"
      ]
     },
     "execution_count": 81,
     "metadata": {},
     "output_type": "execute_result"
    },
    {
     "data": {
      "image/png": "[encoded data removed]",
      "text/plain": [
       "<Figure size 720x432 with 2 Axes>"
      ]
     },
     "metadata": {
      "needs_background": "light"
     },
     "output_type": "display_data"
    }
   ],
   "source": [
    "plt.figure(figsize=(10,6))\n",
    "sns.heatmap(train.corr().compute(), annot=True)"
   ]
  },
  {
   "cell_type": "code",
   "execution_count": null,
   "metadata": {},
   "outputs": [
    {
     "name": "stderr",
     "output_type": "stream",
     "text": [
      "/home/mendax/.local/lib/python3.6/site-packages/ipykernel_launcher.py:4: FutureWarning: `weekday_name` is deprecated and will be removed in a future version. Use `day_name` instead\n",
      "  after removing the cwd from sys.path.\n",
      "/home/mendax/.local/lib/python3.6/site-packages/ipykernel_launcher.py:4: FutureWarning: `weekday_name` is deprecated and will be removed in a future version. Use `day_name` instead\n",
      "  after removing the cwd from sys.path.\n",
      "/home/mendax/.local/lib/python3.6/site-packages/ipykernel_launcher.py:4: FutureWarning: `weekday_name` is deprecated and will be removed in a future version. Use `day_name` instead\n",
      "  after removing the cwd from sys.path.\n"
     ]
    }
   ],
   "source": [
    "%time train.corr().compute()"
   ]
  },
  {
   "cell_type": "code",
   "execution_count": null,
   "metadata": {},
   "outputs": [],
   "source": [
    "%time data.corr()"
   ]
  },
  {
   "cell_type": "code",
   "execution_count": null,
   "metadata": {},
   "outputs": [],
   "source": [
    "## NOW PERSIST THE DASK DATAFRAME TO MEMORY."
   ]
  },
  {
   "cell_type": "code",
   "execution_count": null,
   "metadata": {},
   "outputs": [],
   "source": [
    "train.persist()"
   ]
  },
  {
   "cell_type": "code",
   "execution_count": null,
   "metadata": {},
   "outputs": [],
   "source": [
    "%time train.corr().compute()"
   ]
  }
 ],
 "metadata": {
  "kernelspec": {
   "display_name": "Python 3",
   "language": "python",
   "name": "python3"
  },
  "language_info": {
   "codemirror_mode": {
    "name": "ipython",
    "version": 3
   },
   "file_extension": ".py",
   "mimetype": "text/x-python",
   "name": "python",
   "nbconvert_exporter": "python",
   "pygments_lexer": "ipython3",
   "version": "3.6.8"
  }
 },
 "nbformat": 4,
 "nbformat_minor": 1
}
